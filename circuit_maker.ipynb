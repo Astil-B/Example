{
 "cells": [
  {
   "cell_type": "code",
   "execution_count": 1,
   "id": "alpha-intermediate",
   "metadata": {},
   "outputs": [],
   "source": [
    "import numpy as np\n",
    "\n",
    "from qiskit import(\n",
    "  QuantumCircuit,\n",
    "  execute,\n",
    "  Aer)\n",
    "import qutip as qt\n",
    "import matplotlib.pyplot as plt"
   ]
  },
  {
   "cell_type": "code",
   "execution_count": 22,
   "id": "premium-internship",
   "metadata": {},
   "outputs": [
    {
     "name": "stdout",
     "output_type": "stream",
     "text": [
      "[ 1.+0.j  0.+0.j -0.+0.j -0.+0.j]\n"
     ]
    },
    {
     "data": {
      "text/html": [
       "<pre style=\"word-wrap: normal;white-space: pre;background: #fff0;line-height: 1.1;font-family: &quot;Courier New&quot;,Courier,monospace\">                    ┌───┐┌───┐\n",
       "q_0: ───────────────┤ X ├┤ T ├\n",
       "     ┌───┐┌───┐┌───┐└─┬─┘└───┘\n",
       "q_1: ┤ X ├┤ X ├┤ Z ├──■───────\n",
       "     └───┘└───┘└───┘          \n",
       "c: 2/═════════════════════════\n",
       "                              </pre>"
      ],
      "text/plain": [
       "                    ┌───┐┌───┐\n",
       "q_0: ───────────────┤ X ├┤ T ├\n",
       "     ┌───┐┌───┐┌───┐└─┬─┘└───┘\n",
       "q_1: ┤ X ├┤ X ├┤ Z ├──■───────\n",
       "     └───┘└───┘└───┘          \n",
       "c: 2/═════════════════════════\n",
       "                              "
      ]
     },
     "execution_count": 22,
     "metadata": {},
     "output_type": "execute_result"
    }
   ],
   "source": [
    "simulator = Aer.get_backend('statevector_simulator')\n",
    "circuit = QuantumCircuit(2, 2)\n",
    "\n",
    "\n",
    "def q_maker(action):\n",
    "    \n",
    "    if( action == 0 ):\n",
    "        circuit.x(0)\n",
    "    if( action == 1 ):\n",
    "        circuit.h(0)\n",
    "    if( action == 2 ):\n",
    "        circuit.z(0)\n",
    "    if( action == 3 ):\n",
    "        circuit.t(0)\n",
    "    if( action == 4 ):\n",
    "        circuit.cx(0,1)  \n",
    "\n",
    "    if( action == 5 ):\n",
    "        circuit.x(1)\n",
    "    if( action == 6 ):\n",
    "        circuit.h(1)\n",
    "    if( action == 7 ):\n",
    "        circuit.z(1)\n",
    "    if( action == 8 ):\n",
    "        circuit.t(1)        \n",
    "    if( action == 9 ):\n",
    "        circuit.cx(1,0)\n",
    "\n",
    "def gates(count):\n",
    "    for i in range(count):\n",
    "        q_maker(np.random.randint(10))\n",
    "        \n",
    "gates(5)\n",
    "\n",
    "job = execute(circuit, simulator, shots=10)\n",
    "\n",
    "result = job.result()\n",
    "out_state = result.get_statevector()\n",
    "print(out_state)\n",
    "circuit.draw()"
   ]
  },
  {
   "cell_type": "code",
   "execution_count": null,
   "id": "illegal-queensland",
   "metadata": {},
   "outputs": [],
   "source": []
  },
  {
   "cell_type": "code",
   "execution_count": null,
   "id": "working-herald",
   "metadata": {},
   "outputs": [],
   "source": []
  }
 ],
 "metadata": {
  "kernelspec": {
   "display_name": "Python 3",
   "language": "python",
   "name": "python3"
  },
  "language_info": {
   "codemirror_mode": {
    "name": "ipython",
    "version": 3
   },
   "file_extension": ".py",
   "mimetype": "text/x-python",
   "name": "python",
   "nbconvert_exporter": "python",
   "pygments_lexer": "ipython3",
   "version": "3.8.8"
  }
 },
 "nbformat": 4,
 "nbformat_minor": 5
}
